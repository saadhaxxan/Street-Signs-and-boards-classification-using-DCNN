{
  "nbformat": 4,
  "nbformat_minor": 0,
  "metadata": {
    "colab": {
      "name": "Untitled0.ipynb",
      "provenance": [],
      "collapsed_sections": [],
      "machine_shape": "hm"
    },
    "kernelspec": {
      "name": "python3",
      "display_name": "Python 3"
    },
    "accelerator": "GPU"
  },
  "cells": [
    {
      "cell_type": "code",
      "metadata": {
        "id": "8x2M1-3GqcN1",
        "colab_type": "code",
        "colab": {
          "base_uri": "https://localhost:8080/",
          "height": 34
        },
        "outputId": "63a8dce9-65f1-49d1-ece9-beab28c8f5f2"
      },
      "source": [
        "#cloning into the dataset repository available on bitbucket\n",
        "\n",
        "!git clone https://bitbucket.org/jadslim/german-traffic-signs.git"
      ],
      "execution_count": 19,
      "outputs": [
        {
          "output_type": "stream",
          "text": [
            "fatal: destination path 'german-traffic-signs' already exists and is not an empty directory.\n"
          ],
          "name": "stdout"
        }
      ]
    },
    {
      "cell_type": "code",
      "metadata": {
        "id": "o1QmL0f8sTts",
        "colab_type": "code",
        "colab": {
          "base_uri": "https://localhost:8080/",
          "height": 34
        },
        "outputId": "f850ab4c-0ed2-4671-bba1-b83d8e8281df"
      },
      "source": [
        "#showing files in the dataset\n",
        "\n",
        "!ls german-traffic-signs"
      ],
      "execution_count": 20,
      "outputs": [
        {
          "output_type": "stream",
          "text": [
            "signnames.csv  test.p  train.p\tvalid.p\n"
          ],
          "name": "stdout"
        }
      ]
    },
    {
      "cell_type": "code",
      "metadata": {
        "id": "6jqxUa7zqr-k",
        "colab_type": "code",
        "colab": {}
      },
      "source": [
        "#importing pickle module to unpickle the files in the dataset\n",
        "\n",
        "import pickle\n",
        "\n",
        "#opening the pickle files and creating our variables for training,testing and validation data\n",
        "with open('german-traffic-signs/train.p','rb') as f:\n",
        "  train_data=pickle.load(f)\n",
        "with open('german-traffic-signs/test.p','rb') as f:\n",
        "  test_data=pickle.load(f)\n",
        "with open('german-traffic-signs/valid.p','rb') as f:\n",
        "  val_data=pickle.load(f)\n"
      ],
      "execution_count": 0,
      "outputs": []
    },
    {
      "cell_type": "code",
      "metadata": {
        "id": "x72J3PdYrEiE",
        "colab_type": "code",
        "colab": {}
      },
      "source": [
        "#splitting the data into our variables\n",
        "\n",
        "x_train, y_train = train_data['features'],train_data['labels']\n",
        "x_test, y_test = test_data['features'],test_data['labels']\n",
        "x_val, y_val = val_data['features'],val_data['labels']"
      ],
      "execution_count": 0,
      "outputs": []
    },
    {
      "cell_type": "code",
      "metadata": {
        "id": "5CUH6U3atDxc",
        "colab_type": "code",
        "colab": {
          "base_uri": "https://localhost:8080/",
          "height": 68
        },
        "outputId": "0795166f-cfe1-429a-b299-4ca8096198be"
      },
      "source": [
        "#showing the size of each variable we have\n",
        "\n",
        "print(x_train.shape)\n",
        "print(x_test.shape)\n",
        "print(x_val.shape)"
      ],
      "execution_count": 23,
      "outputs": [
        {
          "output_type": "stream",
          "text": [
            "(34799, 32, 32, 3)\n",
            "(12630, 32, 32, 3)\n",
            "(4410, 32, 32, 3)\n"
          ],
          "name": "stdout"
        }
      ]
    },
    {
      "cell_type": "code",
      "metadata": {
        "id": "6NQduZh2uNAR",
        "colab_type": "code",
        "colab": {
          "base_uri": "https://localhost:8080/",
          "height": 765
        },
        "outputId": "860e020f-cdc7-4ea9-cfe9-081b2316e141"
      },
      "source": [
        "import pandas as pd\n",
        "\n",
        "data = pd.read_csv('german-traffic-signs/signnames.csv')\n",
        "\n",
        "print(data)\n",
        "\n",
        "#from the dataframe printed below we come to know that the dataset has 43 classes."
      ],
      "execution_count": 24,
      "outputs": [
        {
          "output_type": "stream",
          "text": [
            "    ClassId                                           SignName\n",
            "0         0                               Speed limit (20km/h)\n",
            "1         1                               Speed limit (30km/h)\n",
            "2         2                               Speed limit (50km/h)\n",
            "3         3                               Speed limit (60km/h)\n",
            "4         4                               Speed limit (70km/h)\n",
            "5         5                               Speed limit (80km/h)\n",
            "6         6                        End of speed limit (80km/h)\n",
            "7         7                              Speed limit (100km/h)\n",
            "8         8                              Speed limit (120km/h)\n",
            "9         9                                         No passing\n",
            "10       10       No passing for vechiles over 3.5 metric tons\n",
            "11       11              Right-of-way at the next intersection\n",
            "12       12                                      Priority road\n",
            "13       13                                              Yield\n",
            "14       14                                               Stop\n",
            "15       15                                        No vechiles\n",
            "16       16           Vechiles over 3.5 metric tons prohibited\n",
            "17       17                                           No entry\n",
            "18       18                                    General caution\n",
            "19       19                        Dangerous curve to the left\n",
            "20       20                       Dangerous curve to the right\n",
            "21       21                                       Double curve\n",
            "22       22                                         Bumpy road\n",
            "23       23                                      Slippery road\n",
            "24       24                          Road narrows on the right\n",
            "25       25                                          Road work\n",
            "26       26                                    Traffic signals\n",
            "27       27                                        Pedestrians\n",
            "28       28                                  Children crossing\n",
            "29       29                                  Bicycles crossing\n",
            "30       30                                 Beware of ice/snow\n",
            "31       31                              Wild animals crossing\n",
            "32       32                End of all speed and passing limits\n",
            "33       33                                   Turn right ahead\n",
            "34       34                                    Turn left ahead\n",
            "35       35                                         Ahead only\n",
            "36       36                               Go straight or right\n",
            "37       37                                Go straight or left\n",
            "38       38                                         Keep right\n",
            "39       39                                          Keep left\n",
            "40       40                               Roundabout mandatory\n",
            "41       41                                  End of no passing\n",
            "42       42  End of no passing by vechiles over 3.5 metric ...\n"
          ],
          "name": "stdout"
        }
      ]
    },
    {
      "cell_type": "code",
      "metadata": {
        "id": "pnbZ-aDUuWWN",
        "colab_type": "code",
        "colab": {
          "base_uri": "https://localhost:8080/",
          "height": 286
        },
        "outputId": "ce8402bb-9145-4dc5-f95f-70a5328ccead"
      },
      "source": [
        "#import matplotlib for visualizing images\n",
        "\n",
        "import matplotlib.pyplot as plt\n",
        "\n",
        "#the block of code below just display an image from our data\n",
        "\n",
        "plt.imshow(x_train[0])\n",
        "print(x_train[0].shape)"
      ],
      "execution_count": 25,
      "outputs": [
        {
          "output_type": "stream",
          "text": [
            "(32, 32, 3)\n"
          ],
          "name": "stdout"
        },
        {
          "output_type": "display_data",
          "data": {
            "image/png": "[encoded data removed]",
            "text/plain": [
              "<Figure size 432x288 with 1 Axes>"
            ]
          },
          "metadata": {
            "tags": []
          }
        }
      ]
    },
    {
      "cell_type": "code",
      "metadata": {
        "id": "w_1Vq-25veaj",
        "colab_type": "code",
        "colab": {}
      },
      "source": [
        "#converting images into gray scale so that the neural network can learn the pattern easily\n",
        "\n",
        "import cv2\n",
        "\n",
        "def gray(img):\n",
        "  img = cv2.cvtColor(img,cv2.COLOR_BGR2GRAY)\n",
        "  return img\n",
        "\n",
        "#equalizing images to make the features in the images more porminent for the model to understand\n",
        "\n",
        "def equalize(img):\n",
        "  img = cv2.equalizeHist(img)\n",
        "  return img\n",
        "\n",
        "def preprocessing(img):\n",
        "  img = gray(img)\n",
        "  img = equalize(img)\n",
        "  #now normalizing the images\n",
        "  img = img/255\n",
        "  return img\n",
        "  "
      ],
      "execution_count": 0,
      "outputs": []
    },
    {
      "cell_type": "code",
      "metadata": {
        "id": "IVz_6GmgwRGW",
        "colab_type": "code",
        "colab": {}
      },
      "source": [
        "#using map fucntion to iterate through the whole dataset and apply our preprocessing fucntion to every image\n",
        "import numpy as np\n",
        "\n",
        "x_train= np.array(list(map(preprocessing,x_train)))\n",
        "x_val= np.array(list(map(preprocessing,x_val)))\n",
        "x_test= np.array(list(map(preprocessing,x_test)))"
      ],
      "execution_count": 0,
      "outputs": []
    },
    {
      "cell_type": "code",
      "metadata": {
        "id": "Rt7d57QdzZdZ",
        "colab_type": "code",
        "colab": {
          "base_uri": "https://localhost:8080/",
          "height": 286
        },
        "outputId": "b4441934-072d-4258-a410-2bba8c341fc5"
      },
      "source": [
        "#showing the new preprocessed images\n",
        "\n",
        "plt.imshow(x_train[0])\n",
        "print(x_train[0].shape)"
      ],
      "execution_count": 28,
      "outputs": [
        {
          "output_type": "stream",
          "text": [
            "(32, 32)\n"
          ],
          "name": "stdout"
        },
        {
          "output_type": "display_data",
          "data": {
            "image/png": "[encoded data removed]",
            "text/plain": [
              "<Figure size 432x288 with 1 Axes>"
            ]
          },
          "metadata": {
            "tags": []
          }
        }
      ]
    },
    {
      "cell_type": "code",
      "metadata": {
        "id": "f1CAM-vA3Fvg",
        "colab_type": "code",
        "colab": {
          "base_uri": "https://localhost:8080/",
          "height": 34
        },
        "outputId": "5fe0516b-2fee-4273-e1f6-7263fc151a63"
      },
      "source": [
        "#converting the labels into categorical variables\n",
        "from keras.utils.np_utils import to_categorical\n",
        "\n",
        "y_cat_train = to_categorical(y_train, 43)\n",
        "y_cat_test = to_categorical(y_test, 43)\n",
        "y_cat_val = to_categorical(y_val, 43)\n",
        "\n",
        "\n",
        "#reshaping the images\n",
        "\n",
        "x_train = x_train.reshape(34799, 32, 32, 1)\n",
        "x_test = x_test.reshape(12630, 32, 32, 1)\n",
        "x_val = x_val.reshape(4410, 32, 32, 1)\n",
        "\n",
        "print(x_train.shape)\n",
        "\n"
      ],
      "execution_count": 29,
      "outputs": [
        {
          "output_type": "stream",
          "text": [
            "(34799, 32, 32, 1)\n"
          ],
          "name": "stdout"
        }
      ]
    },
    {
      "cell_type": "code",
      "metadata": {
        "id": "vvUQWHREzkvL",
        "colab_type": "code",
        "colab": {}
      },
      "source": [
        "#importing keras and required layers to create the model\n",
        "import keras\n",
        "from keras.models import Sequential\n",
        "from keras.optimizers import Adam\n",
        "from keras.layers import Dense\n",
        "from keras.layers import Flatten, Dropout\n",
        "from keras.layers.convolutional import Conv2D, MaxPooling2D\n",
        "\n",
        "# create model\n",
        "model = Sequential()\n",
        "model.add(Conv2D(30, (5, 5), input_shape=(32, 32, 1), activation='relu'))\n",
        "model.add(MaxPooling2D(pool_size=(2, 2)))\n",
        "model.add(Conv2D(15, (3, 3), activation='relu'))\n",
        "model.add(MaxPooling2D(pool_size=(2, 2)))\n",
        "model.add(Flatten())\n",
        "model.add(Dense(500, activation='relu'))\n",
        "model.add(Dropout(0.5))\n",
        "model.add(Dense(43, activation='softmax'))\n",
        "  \n",
        "\n",
        "model.compile(loss='categorical_crossentropy',\n",
        "              optimizer='adam',\n",
        "              metrics=['accuracy'])\n",
        "\n"
      ],
      "execution_count": 0,
      "outputs": []
    },
    {
      "cell_type": "code",
      "metadata": {
        "id": "i0BqnxoP2lrC",
        "colab_type": "code",
        "colab": {
          "base_uri": "https://localhost:8080/",
          "height": 442
        },
        "outputId": "b300b5e0-830f-4148-8603-8e60419a801e"
      },
      "source": [
        "print(model.summary())"
      ],
      "execution_count": 31,
      "outputs": [
        {
          "output_type": "stream",
          "text": [
            "Model: \"sequential_3\"\n",
            "_________________________________________________________________\n",
            "Layer (type)                 Output Shape              Param #   \n",
            "=================================================================\n",
            "conv2d_5 (Conv2D)            (None, 28, 28, 30)        780       \n",
            "_________________________________________________________________\n",
            "max_pooling2d_5 (MaxPooling2 (None, 14, 14, 30)        0         \n",
            "_________________________________________________________________\n",
            "conv2d_6 (Conv2D)            (None, 12, 12, 15)        4065      \n",
            "_________________________________________________________________\n",
            "max_pooling2d_6 (MaxPooling2 (None, 6, 6, 15)          0         \n",
            "_________________________________________________________________\n",
            "flatten_3 (Flatten)          (None, 540)               0         \n",
            "_________________________________________________________________\n",
            "dense_5 (Dense)              (None, 500)               270500    \n",
            "_________________________________________________________________\n",
            "dropout_3 (Dropout)          (None, 500)               0         \n",
            "_________________________________________________________________\n",
            "dense_6 (Dense)              (None, 43)                21543     \n",
            "=================================================================\n",
            "Total params: 296,888\n",
            "Trainable params: 296,888\n",
            "Non-trainable params: 0\n",
            "_________________________________________________________________\n",
            "None\n"
          ],
          "name": "stdout"
        }
      ]
    },
    {
      "cell_type": "code",
      "metadata": {
        "id": "81dgt4tk3YB7",
        "colab_type": "code",
        "colab": {
          "base_uri": "https://localhost:8080/",
          "height": 714
        },
        "outputId": "ae4c2f24-9fd0-4405-a552-72ab18b0ea09"
      },
      "source": [
        "model.fit(x_train,y_cat_train,epochs=20,batch_size=400,verbose=1,shuffle=1)"
      ],
      "execution_count": 32,
      "outputs": [
        {
          "output_type": "stream",
          "text": [
            "Epoch 1/20\n",
            "34799/34799 [==============================] - 2s 69us/step - loss: 2.5502 - acc: 0.3239\n",
            "Epoch 2/20\n",
            "34799/34799 [==============================] - 2s 57us/step - loss: 0.8929 - acc: 0.7283\n",
            "Epoch 3/20\n",
            "34799/34799 [==============================] - 2s 58us/step - loss: 0.4878 - acc: 0.8540\n",
            "Epoch 4/20\n",
            "34799/34799 [==============================] - 2s 58us/step - loss: 0.3340 - acc: 0.9011\n",
            "Epoch 5/20\n",
            "34799/34799 [==============================] - 2s 59us/step - loss: 0.2588 - acc: 0.9246\n",
            "Epoch 6/20\n",
            "34799/34799 [==============================] - 2s 55us/step - loss: 0.2037 - acc: 0.9404\n",
            "Epoch 7/20\n",
            "34799/34799 [==============================] - 2s 55us/step - loss: 0.1711 - acc: 0.9495\n",
            "Epoch 8/20\n",
            "34799/34799 [==============================] - 2s 57us/step - loss: 0.1396 - acc: 0.9592\n",
            "Epoch 9/20\n",
            "34799/34799 [==============================] - 2s 56us/step - loss: 0.1224 - acc: 0.9646\n",
            "Epoch 10/20\n",
            "34799/34799 [==============================] - 2s 53us/step - loss: 0.1027 - acc: 0.9699\n",
            "Epoch 11/20\n",
            "34799/34799 [==============================] - 2s 52us/step - loss: 0.0927 - acc: 0.9722\n",
            "Epoch 12/20\n",
            "34799/34799 [==============================] - 2s 55us/step - loss: 0.0776 - acc: 0.9764\n",
            "Epoch 13/20\n",
            "34799/34799 [==============================] - 2s 58us/step - loss: 0.0707 - acc: 0.9790\n",
            "Epoch 14/20\n",
            "34799/34799 [==============================] - 2s 52us/step - loss: 0.0621 - acc: 0.9824\n",
            "Epoch 15/20\n",
            "34799/34799 [==============================] - 2s 54us/step - loss: 0.0613 - acc: 0.9817\n",
            "Epoch 16/20\n",
            "34799/34799 [==============================] - 2s 52us/step - loss: 0.0528 - acc: 0.9853\n",
            "Epoch 17/20\n",
            "34799/34799 [==============================] - 2s 61us/step - loss: 0.0494 - acc: 0.9853\n",
            "Epoch 18/20\n",
            "34799/34799 [==============================] - 2s 57us/step - loss: 0.0448 - acc: 0.9859\n",
            "Epoch 19/20\n",
            "34799/34799 [==============================] - 2s 54us/step - loss: 0.0439 - acc: 0.9866\n",
            "Epoch 20/20\n",
            "34799/34799 [==============================] - 2s 55us/step - loss: 0.0370 - acc: 0.9895\n"
          ],
          "name": "stdout"
        },
        {
          "output_type": "execute_result",
          "data": {
            "text/plain": [
              "<keras.callbacks.History at 0x7f11f8a5bf98>"
            ]
          },
          "metadata": {
            "tags": []
          },
          "execution_count": 32
        }
      ]
    },
    {
      "cell_type": "code",
      "metadata": {
        "id": "qv2qRxTt3rkQ",
        "colab_type": "code",
        "colab": {}
      },
      "source": [
        "from sklearn.metrics import classification_report  "
      ],
      "execution_count": 0,
      "outputs": []
    },
    {
      "cell_type": "code",
      "metadata": {
        "id": "nRDern5Y-A9h",
        "colab_type": "code",
        "colab": {}
      },
      "source": [
        "prediction = model.predict_classes(x_test)"
      ],
      "execution_count": 0,
      "outputs": []
    },
    {
      "cell_type": "code",
      "metadata": {
        "id": "nK2cvRqu-Dzt",
        "colab_type": "code",
        "colab": {
          "base_uri": "https://localhost:8080/",
          "height": 867
        },
        "outputId": "bfad56f6-734f-4007-b1a5-ef26be4fe6cb"
      },
      "source": [
        "print(classification_report(y_test,prediction))"
      ],
      "execution_count": 35,
      "outputs": [
        {
          "output_type": "stream",
          "text": [
            "              precision    recall  f1-score   support\n",
            "\n",
            "           0       0.69      0.78      0.73        60\n",
            "           1       0.92      0.95      0.93       720\n",
            "           2       0.88      0.98      0.93       750\n",
            "           3       0.91      0.97      0.94       450\n",
            "           4       0.94      0.92      0.93       660\n",
            "           5       0.89      0.82      0.85       630\n",
            "           6       0.99      0.77      0.86       150\n",
            "           7       0.93      0.90      0.92       450\n",
            "           8       0.94      0.88      0.91       450\n",
            "           9       0.96      1.00      0.98       480\n",
            "          10       0.99      0.99      0.99       660\n",
            "          11       0.90      0.93      0.92       420\n",
            "          12       0.97      0.97      0.97       690\n",
            "          13       0.99      0.99      0.99       720\n",
            "          14       0.94      0.97      0.96       270\n",
            "          15       0.91      0.98      0.94       210\n",
            "          16       1.00      0.99      1.00       150\n",
            "          17       0.98      0.97      0.98       360\n",
            "          18       0.93      0.74      0.82       390\n",
            "          19       0.97      0.65      0.78        60\n",
            "          20       0.64      0.64      0.64        90\n",
            "          21       0.68      0.60      0.64        90\n",
            "          22       0.94      0.96      0.95       120\n",
            "          23       0.81      0.95      0.87       150\n",
            "          24       0.91      0.86      0.88        90\n",
            "          25       0.88      0.89      0.88       480\n",
            "          26       0.83      0.86      0.84       180\n",
            "          27       0.50      0.48      0.49        60\n",
            "          28       0.81      0.95      0.88       150\n",
            "          29       0.95      0.98      0.96        90\n",
            "          30       0.85      0.65      0.73       150\n",
            "          31       0.81      0.97      0.88       270\n",
            "          32       0.93      0.95      0.94        60\n",
            "          33       0.96      0.99      0.97       210\n",
            "          34       0.99      0.99      0.99       120\n",
            "          35       0.99      0.98      0.98       390\n",
            "          36       0.97      0.97      0.97       120\n",
            "          37       0.98      0.95      0.97        60\n",
            "          38       0.96      0.94      0.95       690\n",
            "          39       0.95      0.99      0.97        90\n",
            "          40       0.95      0.83      0.89        90\n",
            "          41       0.98      0.88      0.93        60\n",
            "          42       0.99      0.93      0.96        90\n",
            "\n",
            "    accuracy                           0.93     12630\n",
            "   macro avg       0.90      0.89      0.90     12630\n",
            "weighted avg       0.93      0.93      0.92     12630\n",
            "\n"
          ],
          "name": "stdout"
        }
      ]
    },
    {
      "cell_type": "code",
      "metadata": {
        "id": "GKiqsZgm-GrV",
        "colab_type": "code",
        "colab": {}
      },
      "source": [
        "model.save('street_signs.h5')"
      ],
      "execution_count": 0,
      "outputs": []
    }
  ]
}